{
 "cells": [
  {
   "cell_type": "code",
   "execution_count": null,
   "metadata": {},
   "outputs": [],
   "source": [
    "import requests\n",
    "from bs4 import BeautifulSoup\n",
    "import pandas as pd\n",
    "\n",
    "dictlist = []\n",
    "totalSec = []\n",
    "\n",
    "page = requests.get('https://www.senate.ca.gov/senators')\n",
    "soup = BeautifulSoup(page.content, 'html.parser')\n",
    "\n",
    "sectionOdd = soup.find_all(\"tr\", {\"class\" : \"odd\"})\n",
    "sectionEven = soup.find_all(\"tr\", {\"class\" : \"even\"})\n",
    "\n",
    "target = soup.find_all(\"td\", {\"class\" : \"views-field views-field-field-member-lname-sort active\"})\n",
    "\n",
    "# sum the odd columns and even columns together\n",
    "for i in range(max(len(sectionOdd) ,len(sectionEven))):\n",
    "    totalSec.append(sectionOdd[i])\n",
    "    totalSec.append(sectionEven[i])\n",
    "\n",
    "# get district and party from everyone\n",
    "for sec in totalSec:\n",
    "    \n",
    "    data_object = []\n",
    "    td = sec.find_all(\"td\")\n",
    "\n",
    "    # assign name and twitter link to the object\n",
    "    res = td[0].find('a', href=True)\n",
    "    data_object.append(res.text) # name\n",
    "\n",
    "    p = requests.get(res['href'])\n",
    "    new_page = BeautifulSoup(p.content, 'html.parser')\n",
    "    \n",
    "    t = new_page.find('div', {'id' : 'block-connectwithus'})\n",
    "    if t is not None:\n",
    "        t = t.find_all('a', href=True)\n",
    "        data_object.append(t[1]['href']) # twitter link\n",
    "\n",
    "        result = t[1]['href'].split('/')[3]\n",
    "        result = result.replace('@', '')\n",
    "        data_object.append(result) # twitter handle\n",
    "    else:\n",
    "        data_object.append(\"\")\n",
    "        data_object.append(\"\")\n",
    "\n",
    "    dist = td[1].text # District \n",
    "    par = td[2].text # Party\n",
    "    dist = dist.replace(\"\\n\", \"\")\n",
    "    dist = dist.strip() \n",
    "    par = par.replace(\"\\n\", \"\")\n",
    "    par = par.strip()\n",
    "    data_object.append(dist) # district\n",
    "    data_object.append(par) # party\n",
    "\n",
    "    dictlist.append(data_object)\n",
    "\n",
    "df = pd.DataFrame(dictlist, columns=['name', 'twitter link', 'twitter handle',\n",
    "         'district', 'party'])\n",
    "\n",
    "df.to_csv('assemblyMembers/assemblyMembers_tweets.csv',index=False)\n",
    "\n",
    "df.head()"
   ]
  }
 ],
 "metadata": {
  "kernelspec": {
   "display_name": "Python 3.10.8 64-bit (microsoft store)",
   "language": "python",
   "name": "python3"
  },
  "language_info": {
   "name": "python",
   "version": "3.10.8"
  },
  "orig_nbformat": 4,
  "vscode": {
   "interpreter": {
    "hash": "a9f1f59101e07bffb7c2ecfaca1a3c7ffe3cd326ee75e914ab1b038684b38c5a"
   }
  }
 },
 "nbformat": 4,
 "nbformat_minor": 2
}
