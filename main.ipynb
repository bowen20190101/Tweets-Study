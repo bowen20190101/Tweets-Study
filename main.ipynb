{
 "cells": [
  {
   "cell_type": "code",
   "execution_count": 1,
   "metadata": {},
   "outputs": [],
   "source": [
    "import tweepy\n",
    "import pandas as pd\n",
    "import requests\n",
    "from bs4 import BeautifulSoup\n",
    "from urllib.request import Request, urlopen"
   ]
  },
  {
   "cell_type": "code",
   "execution_count": 2,
   "metadata": {},
   "outputs": [],
   "source": [
    "consumer_key = 'Wc46qw5CVy9JQ2DOzgIlYkKlG'\n",
    "consumer_secret = 'sNTQZl18KGowmHDHFJqPgJoq8M3SVtGe8RY1UY6ztr9yl8lNAs'\n",
    "access_token = '1584651535933267968-Iq8u3WDEFTGV4IVzoETufQGDGPnwh0'\n",
    "access_token_secret = 'wHqPJ0eLir3OjopC2MPey7S6cKOLux2Z4TYMfZCdu9K6z'\n",
    "\n",
    "auth = tweepy.OAuthHandler(consumer_key, consumer_secret)\n",
    "auth.set_access_token(access_token, access_token_secret)\n",
    "api = tweepy.API(auth)"
   ]
  },
  {
   "cell_type": "code",
   "execution_count": 3,
   "metadata": {},
   "outputs": [
    {
     "data": {
      "text/plain": [
       "0     AsmAguiarCurry\n",
       "2        AsmArambula\n",
       "3         BauerKahan\n",
       "43      BMaienschein\n",
       "62    AsmRobertRivas\n",
       "72     AsmVillapudua\n",
       "Name: twitter handle, dtype: object"
      ]
     },
     "execution_count": 3,
     "metadata": {},
     "output_type": "execute_result"
    }
   ],
   "source": [
    "df = pd.read_csv('./assemblyMembers/assemblyMembers_tweets.csv')\n",
    "\n",
    "twAccounts = df['twitter handle'].dropna()\n",
    "twAccounts"
   ]
  },
  {
   "cell_type": "code",
   "execution_count": 14,
   "metadata": {},
   "outputs": [
    {
     "name": "stdout",
     "output_type": "stream",
     "text": [
      "{'id': 1596535811549188096, 'id_str': '1596535811549188096', 'indices': [230, 253], 'media_url': 'http://pbs.twimg.com/media/FigI3J6UUAAfkKi.jpg', 'media_url_https': 'https://pbs.twimg.com/media/FigI3J6UUAAfkKi.jpg', 'url': 'https://t.co/CivhE4G7iX', 'display_url': 'pic.twitter.com/CivhE4G7iX', 'expanded_url': 'https://twitter.com/AsmArambula/status/1596535820764139520/photo/1', 'type': 'photo', 'sizes': {'thumb': {'w': 150, 'h': 150, 'resize': 'crop'}, 'small': {'w': 680, 'h': 677, 'resize': 'fit'}, 'large': {'w': 787, 'h': 784, 'resize': 'fit'}, 'medium': {'w': 787, 'h': 784, 'resize': 'fit'}}, 'ext_alt_text': None}\n",
      "{'id': 1596237526015975424, 'id_str': '1596237526015975424', 'indices': [171, 194], 'media_url': 'http://pbs.twimg.com/media/Fib5kptUoAAwA_z.jpg', 'media_url_https': 'https://pbs.twimg.com/media/Fib5kptUoAAwA_z.jpg', 'url': 'https://t.co/eETkxZo4ie', 'display_url': 'pic.twitter.com/eETkxZo4ie', 'expanded_url': 'https://twitter.com/AsmArambula/status/1596237533666365440/photo/1', 'type': 'photo', 'sizes': {'medium': {'w': 785, 'h': 783, 'resize': 'fit'}, 'thumb': {'w': 150, 'h': 150, 'resize': 'crop'}, 'small': {'w': 680, 'h': 678, 'resize': 'fit'}, 'large': {'w': 785, 'h': 783, 'resize': 'fit'}}, 'ext_alt_text': None}\n",
      "{'id': 1595807531107962882, 'id_str': '1595807531107962882', 'indices': [155, 178], 'media_url': 'http://pbs.twimg.com/media/FiVyfp2VUAIJ0om.jpg', 'media_url_https': 'https://pbs.twimg.com/media/FiVyfp2VUAIJ0om.jpg', 'url': 'https://t.co/OX7s1M0zIK', 'display_url': 'pic.twitter.com/OX7s1M0zIK', 'expanded_url': 'https://twitter.com/AsmArambula/status/1595807538322104320/photo/1', 'type': 'photo', 'sizes': {'thumb': {'w': 150, 'h': 150, 'resize': 'crop'}, 'large': {'w': 785, 'h': 783, 'resize': 'fit'}, 'medium': {'w': 785, 'h': 783, 'resize': 'fit'}, 'small': {'w': 680, 'h': 678, 'resize': 'fit'}}, 'ext_alt_text': None}\n",
      "{'id': 1596552548264988672, 'id_str': '1596552548264988672', 'indices': [277, 300], 'media_url': 'http://pbs.twimg.com/media/FigYFXCUUAA-YGb.jpg', 'media_url_https': 'https://pbs.twimg.com/media/FigYFXCUUAA-YGb.jpg', 'url': 'https://t.co/cI2CB0Kdhe', 'display_url': 'pic.twitter.com/cI2CB0Kdhe', 'expanded_url': 'https://twitter.com/BMaienschein/status/1596552552597684229/photo/1', 'type': 'photo', 'sizes': {'thumb': {'w': 150, 'h': 150, 'resize': 'crop'}, 'medium': {'w': 1200, 'h': 1200, 'resize': 'fit'}, 'large': {'w': 2048, 'h': 2048, 'resize': 'fit'}, 'small': {'w': 680, 'h': 680, 'resize': 'fit'}}, 'ext_alt_text': None}\n",
      "{'id': 1595826330070704130, 'id_str': '1595826330070704130', 'indices': [91, 114], 'media_url': 'http://pbs.twimg.com/media/FiWDl5cUYAIJRLk.jpg', 'media_url_https': 'https://pbs.twimg.com/media/FiWDl5cUYAIJRLk.jpg', 'url': 'https://t.co/ud9qm2tp96', 'display_url': 'pic.twitter.com/ud9qm2tp96', 'expanded_url': 'https://twitter.com/BMaienschein/status/1595826333581725697/photo/1', 'type': 'photo', 'sizes': {'thumb': {'w': 150, 'h': 150, 'resize': 'crop'}, 'medium': {'w': 1080, 'h': 1080, 'resize': 'fit'}, 'large': {'w': 1080, 'h': 1080, 'resize': 'fit'}, 'small': {'w': 680, 'h': 680, 'resize': 'fit'}}, 'ext_alt_text': None}\n",
      "{'id': 1595462280681955335, 'id_str': '1595462280681955335', 'indices': [215, 238], 'media_url': 'http://pbs.twimg.com/media/FiQ4fbyVIAcBxUX.jpg', 'media_url_https': 'https://pbs.twimg.com/media/FiQ4fbyVIAcBxUX.jpg', 'url': 'https://t.co/Lld3vNztNG', 'display_url': 'pic.twitter.com/Lld3vNztNG', 'expanded_url': 'https://twitter.com/BMaienschein/status/1595462285929029635/photo/1', 'type': 'photo', 'sizes': {'thumb': {'w': 150, 'h': 150, 'resize': 'crop'}, 'medium': {'w': 1200, 'h': 1200, 'resize': 'fit'}, 'large': {'w': 2048, 'h': 2048, 'resize': 'fit'}, 'small': {'w': 680, 'h': 680, 'resize': 'fit'}}, 'ext_alt_text': None}\n",
      "{'id': 1596548012255297536, 'id_str': '1596548012255297536', 'indices': [188, 211], 'media_url': 'http://pbs.twimg.com/media/FigT9VFVQAAXJhP.jpg', 'media_url_https': 'https://pbs.twimg.com/media/FigT9VFVQAAXJhP.jpg', 'url': 'https://t.co/JbiLm0xfOm', 'display_url': 'pic.twitter.com/JbiLm0xfOm', 'expanded_url': 'https://twitter.com/AsmRobertRivas/status/1596548015934050306/photo/1', 'type': 'photo', 'sizes': {'large': {'w': 1444, 'h': 2048, 'resize': 'fit'}, 'thumb': {'w': 150, 'h': 150, 'resize': 'crop'}, 'small': {'w': 479, 'h': 680, 'resize': 'fit'}, 'medium': {'w': 846, 'h': 1200, 'resize': 'fit'}}, 'ext_alt_text': None}\n",
      "{'id': 1595814463743074305, 'id_str': '1595814463743074305', 'indices': [168, 191], 'media_url': 'http://pbs.twimg.com/media/FiV4zL7WIAEJBeK.jpg', 'media_url_https': 'https://pbs.twimg.com/media/FiV4zL7WIAEJBeK.jpg', 'url': 'https://t.co/YXMADAbjEI', 'display_url': 'pic.twitter.com/YXMADAbjEI', 'expanded_url': 'https://twitter.com/AsmVillapudua/status/1595814478196654080/photo/1', 'type': 'photo', 'sizes': {'thumb': {'w': 150, 'h': 150, 'resize': 'crop'}, 'medium': {'w': 1080, 'h': 1080, 'resize': 'fit'}, 'large': {'w': 1080, 'h': 1080, 'resize': 'fit'}, 'small': {'w': 680, 'h': 680, 'resize': 'fit'}}, 'ext_alt_text': None}\n"
     ]
    }
   ],
   "source": [
    "for userID in twAccounts:\n",
    "    \n",
    "\n",
    "    keywords = '\"\" from:' + userID + ' filter:images'\n",
    "\n",
    "    tweets = tweepy.Cursor(api.search_tweets, q=keywords, lang='en',\n",
    "            count=50, tweet_mode='extended').items(50)\n",
    "\n",
    "    all_tweets = []\n",
    "\n",
    "    for tw in tweets:\n",
    "        all_tweets.append(tw)\n",
    "\n",
    "    outtweets = []\n",
    "\n",
    "    idx = 0\n",
    "\n",
    "    for tweet in all_tweets:\n",
    "\n",
    "        status = api.get_status(tweet.id, include_ext_alt_text=True, tweet_mode='extended')\n",
    "        hasAlt = 'no'\n",
    "        alt = 'None'\n",
    "        if hasattr(status, 'extended_entities'):\n",
    "            alt = status.extended_entities['media'][0]['ext_alt_text']\n",
    "            print(status.extended_entities['media'][0])\n",
    "            if(alt == None or ''):\n",
    "                hasAlt = 'no'\n",
    "            else:\n",
    "                hasAlt = 'yes'\n",
    "\n",
    "        temp = []\n",
    "        \n",
    "        temp.append(tweet.id_str)\n",
    "        temp.append(tweet.created_at)\n",
    "        temp.append(tweet.favorite_count)\n",
    "        temp.append(tweet.retweet_count)\n",
    "        temp.append(hasAlt)\n",
    "        temp.append(alt)\n",
    "        temp.append(tweet.full_text.encode(\"utf-8\").decode(\"utf-8\"))\n",
    "\n",
    "        outtweets.append(temp)\n",
    "            \n",
    "        idx += 1\n",
    "\n",
    "    df = pd.DataFrame(outtweets,columns=[\"id\",\"created_at\",\"favorite_count\", \"retweet_count\", 'has alt_text?', 'alt_text', \"text\"])\n",
    "    df.to_csv('tweets/%s_tweets.csv' % userID,index=False)\n",
    "    df.head(3)\n",
    "        "
   ]
  },
  {
   "cell_type": "code",
   "execution_count": null,
   "metadata": {},
   "outputs": [],
   "source": []
  }
 ],
 "metadata": {
  "kernelspec": {
   "display_name": "Python 3.10.8 64-bit (microsoft store)",
   "language": "python",
   "name": "python3"
  },
  "language_info": {
   "codemirror_mode": {
    "name": "ipython",
    "version": 3
   },
   "file_extension": ".py",
   "mimetype": "text/x-python",
   "name": "python",
   "nbconvert_exporter": "python",
   "pygments_lexer": "ipython3",
   "version": "3.10.8"
  },
  "orig_nbformat": 4,
  "vscode": {
   "interpreter": {
    "hash": "a9f1f59101e07bffb7c2ecfaca1a3c7ffe3cd326ee75e914ab1b038684b38c5a"
   }
  }
 },
 "nbformat": 4,
 "nbformat_minor": 2
}
